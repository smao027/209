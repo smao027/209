{
 "cells": [
  {
   "cell_type": "code",
   "execution_count": 1,
   "id": "b80ad1e5",
   "metadata": {},
   "outputs": [
    {
     "ename": "",
     "evalue": "",
     "output_type": "error",
     "traceback": [
      "\u001b[1;31mThe Kernel crashed while executing code in the current cell or a previous cell. \n",
      "\u001b[1;31mPlease review the code in the cell(s) to identify a possible cause of the failure. \n",
      "\u001b[1;31mClick <a href='https://aka.ms/vscodeJupyterKernelCrash'>here</a> for more info. \n",
      "\u001b[1;31mView Jupyter <a href='command:jupyter.viewOutput'>log</a> for further details."
     ]
    }
   ],
   "source": [
    "from preprocess import preprocess_data, load_data, create_dataloaders\n",
    "\n",
    "data = load_data(\"data/diabetes_prediction_dataset.csv\")\n",
    "train_data, test_data = preprocess_data(data)\n",
    "train_loader, test_loader = create_dataloaders(train_data, test_data, batch_size=32)\n",
    "print(\"Data loaded and preprocessed successfully.\")\n",
    "print(f\"Number of training samples: {len(train_loader.dataset)}\")\n"
   ]
  }
 ],
 "metadata": {
  "kernelspec": {
   "display_name": "xiaofeng",
   "language": "python",
   "name": "python3"
  },
  "language_info": {
   "codemirror_mode": {
    "name": "ipython",
    "version": 3
   },
   "file_extension": ".py",
   "mimetype": "text/x-python",
   "name": "python",
   "nbconvert_exporter": "python",
   "pygments_lexer": "ipython3",
   "version": "3.11.8"
  }
 },
 "nbformat": 4,
 "nbformat_minor": 5
}
